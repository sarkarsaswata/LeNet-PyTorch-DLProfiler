{
  "nbformat": 4,
  "nbformat_minor": 0,
  "metadata": {
    "colab": {
      "provenance": []
    },
    "kernelspec": {
      "name": "python3",
      "display_name": "Python 3"
    },
    "language_info": {
      "name": "python"
    }
  },
  "cells": [
    {
      "cell_type": "code",
      "source": [
        "!pip3 install numpy"
      ],
      "metadata": {
        "colab": {
          "base_uri": "https://localhost:8080/"
        },
        "id": "PygXd8nlSIlY",
        "outputId": "8494915c-6714-438e-f431-3ad802037b85"
      },
      "execution_count": 1,
      "outputs": [
        {
          "output_type": "stream",
          "name": "stdout",
          "text": [
            "Requirement already satisfied: numpy in /usr/local/lib/python3.10/dist-packages (1.23.5)\n"
          ]
        }
      ]
    },
    {
      "cell_type": "code",
      "source": [
        "import numpy as np\n",
        "import multiprocessing\n",
        "\n",
        "def multiply_matrices(start_row, end_row, matrix_a, matrix_b):\n",
        "  \"\"\"\n",
        "  Args:\n",
        "    start_row: The start row index of the block to multiply.\n",
        "    end_row: The end row index of the block to multiply.\n",
        "    matrix_a: The first matrix.\n",
        "    matrix_b: The second matrix.\n",
        "\n",
        "  Returns:\n",
        "    The product of the block and the second matrix.\n",
        "  \"\"\"\n",
        "\n",
        "  C = np.zeros_like(matrix_b)\n",
        "  for i in range(start_row, end_row):\n",
        "    for j in range(matrix_b.shape[0]):\n",
        "      C[i, j] = np.sum(matrix_a[i, :] * matrix_b[:,j].T)\n",
        "\n",
        "  return C\n",
        "\n",
        "def main():\n",
        "  matrix_size=1000\n",
        "  num_threads = multiprocessing.cpu_count()\n",
        "  print(num_threads)\n",
        "  # Create two random matrices.\n",
        "  matrix_a = np.random.randint(4, size=(matrix_size,matrix_size))\n",
        "  matrix_b = np.random.randint(4, size=(matrix_size,matrix_size))\n",
        "  print(matrix_a, \"\\n\", matrix_b)\n",
        "  # Create a pool of worker processes.\n",
        "  workers = matrix_size//num_threads if matrix_size//num_threads>1 else 2\n",
        "  print(workers)\n",
        "  pool = multiprocessing.Pool(workers)\n",
        "\n",
        "  # Divide the workload into smaller tasks.\n",
        "  tasks = []\n",
        "  for i in range(0, matrix_a.shape[0], workers):\n",
        "    start_row = i\n",
        "    end_row = min(i + (workers), matrix_a.shape[0])\n",
        "    task = (start_row, end_row, matrix_a, matrix_b)\n",
        "    tasks.append(task)\n",
        "\n",
        "  # Start the worker processes and get the results asynchronously.\n",
        "  results = [pool.apply_async(multiply_matrices, args=task) for task in tasks]\n",
        "\n",
        "  # Combine the results from the worker processes.\n",
        "  C = np.zeros_like(matrix_a)\n",
        "  for result in results:\n",
        "    print(\"\\n result.get()\",result.get())\n",
        "    C += result.get()\n",
        "  print(C)\n",
        "  np.savetxt(X=C, fname=\"resultant.txt\")\n",
        "\n",
        "if __name__ == \"__main__\":\n",
        "  main()"
      ],
      "metadata": {
        "colab": {
          "base_uri": "https://localhost:8080/"
        },
        "id": "dnAVMktVVfgK",
        "outputId": "dd5333ea-fa2d-4ab8-b70b-2e8341e271cc"
      },
      "execution_count": 2,
      "outputs": [
        {
          "output_type": "stream",
          "name": "stdout",
          "text": [
            "2\n",
            "[[3 1 3 ... 0 2 0]\n",
            " [1 0 0 ... 0 2 0]\n",
            " [2 3 3 ... 0 2 3]\n",
            " ...\n",
            " [1 0 3 ... 1 2 0]\n",
            " [1 1 3 ... 1 1 0]\n",
            " [3 3 0 ... 1 2 3]] \n",
            " [[3 0 3 ... 2 1 3]\n",
            " [2 3 0 ... 2 1 0]\n",
            " [3 1 0 ... 2 3 0]\n",
            " ...\n",
            " [0 0 0 ... 0 1 2]\n",
            " [1 2 1 ... 1 2 2]\n",
            " [3 1 3 ... 3 2 3]]\n",
            "500\n",
            "\n",
            " result.get() [[2287 2215 2357 ... 2276 2322 2271]\n",
            " [2233 1977 2260 ... 2158 2148 2201]\n",
            " [2210 2173 2181 ... 2290 2215 2282]\n",
            " ...\n",
            " [   0    0    0 ...    0    0    0]\n",
            " [   0    0    0 ...    0    0    0]\n",
            " [   0    0    0 ...    0    0    0]]\n",
            "\n",
            " result.get() [[   0    0    0 ...    0    0    0]\n",
            " [   0    0    0 ...    0    0    0]\n",
            " [   0    0    0 ...    0    0    0]\n",
            " ...\n",
            " [2290 2155 2265 ... 2233 2262 2346]\n",
            " [2236 2179 2249 ... 2208 2185 2149]\n",
            " [2278 2105 2309 ... 2313 2291 2295]]\n",
            "[[2287 2215 2357 ... 2276 2322 2271]\n",
            " [2233 1977 2260 ... 2158 2148 2201]\n",
            " [2210 2173 2181 ... 2290 2215 2282]\n",
            " ...\n",
            " [2290 2155 2265 ... 2233 2262 2346]\n",
            " [2236 2179 2249 ... 2208 2185 2149]\n",
            " [2278 2105 2309 ... 2313 2291 2295]]\n"
          ]
        }
      ]
    },
    {
      "cell_type": "code",
      "source": [],
      "metadata": {
        "id": "aseNBjIFSYL2"
      },
      "execution_count": null,
      "outputs": []
    }
  ]
}